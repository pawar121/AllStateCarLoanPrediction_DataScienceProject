{
 "cells": [
  {
   "cell_type": "code",
   "execution_count": 1,
   "metadata": {
    "collapsed": true
   },
   "outputs": [],
   "source": [
    "import csv\n",
    "import os\n",
    "import numpy as np\n",
    "import pandas as pd\n",
    "import warnings\n",
    "warnings.filterwarnings('ignore')"
   ]
  },
  {
   "cell_type": "code",
   "execution_count": 2,
   "metadata": {
    "collapsed": true
   },
   "outputs": [],
   "source": [
    "def get_list(coefs, names = None, sort = False):\n",
    "    if names == None:\n",
    "        names = [\"X%s\" % x for x in range(len(coefs))]\n",
    "    lst = zip(coefs, names)\n",
    "    if sort:\n",
    "        lst = sorted(lst,  key = lambda x:-np.abs(x[0]))\n",
    "    return lst"
   ]
  },
  {
   "cell_type": "code",
   "execution_count": 3,
   "metadata": {
    "collapsed": true
   },
   "outputs": [],
   "source": [
    "def find_ranks(ranks, names, order=1):\n",
    "    minmax = MinMaxScaler()\n",
    "    ranks = minmax.fit_transform(order*np.array([ranks]).T).T[0]\n",
    "    ranks = map(lambda x: round(x, 2), ranks)\n",
    "    return dict(zip(names, ranks ))"
   ]
  },
  {
   "cell_type": "code",
   "execution_count": 4,
   "metadata": {
    "collapsed": true
   },
   "outputs": [],
   "source": [
    "#defining filedirectory\n",
    "fileDir = os.path.dirname(os.path.realpath('__file__'))"
   ]
  },
  {
   "cell_type": "code",
   "execution_count": 5,
   "metadata": {
    "collapsed": true
   },
   "outputs": [],
   "source": [
    "#defining data frames\n",
    "df = pd.DataFrame()"
   ]
  },
  {
   "cell_type": "code",
   "execution_count": 6,
   "metadata": {
    "collapsed": false
   },
   "outputs": [
    {
     "name": "stdout",
     "output_type": "stream",
     "text": [
      "Working on file: train.csv....\n"
     ]
    }
   ],
   "source": [
    "#reading data from csv\n",
    "for directory, subdirectory, filenames in  os.walk(fileDir + '/data/raw_data/'):\n",
    "    for filename in filenames:\n",
    "        print(\"Working on file: \" + filename + '....')\n",
    "        dateparse = lambda x: pd.datetime.strptime(x, '%H:%M')\n",
    "        df = pd.read_csv(os.path.join(directory, filename), parse_dates=['time'], date_parser=dateparse)"
   ]
  },
  {
   "cell_type": "code",
   "execution_count": 7,
   "metadata": {
    "collapsed": true
   },
   "outputs": [],
   "source": [
    "#defining required columns\n",
    "columns = ['state', 'location', 'group_size', 'homeowner', 'car_age', 'car_value', 'risk_factor', \n",
    "           'age_oldest', 'age_youngest', 'married_couple']"
   ]
  },
  {
   "cell_type": "code",
   "execution_count": 8,
   "metadata": {
    "collapsed": true
   },
   "outputs": [],
   "source": [
    "#subsetting data frame\n",
    "df = df[columns]"
   ]
  },
  {
   "cell_type": "code",
   "execution_count": 9,
   "metadata": {
    "collapsed": true
   },
   "outputs": [],
   "source": [
    "#converting states into codes\n",
    "df['state_code'] = df['state'].astype('category')\n",
    "df['state_code'] = df['state_code'].cat.codes"
   ]
  },
  {
   "cell_type": "code",
   "execution_count": 10,
   "metadata": {
    "collapsed": true
   },
   "outputs": [],
   "source": [
    "#converting car values into codes\n",
    "df['car_value'].fillna('z', inplace=True)\n",
    "df['car_value_code'] = df['car_value'].astype('category')\n",
    "df['car_value_code'] = df['car_value_code'].cat.codes"
   ]
  },
  {
   "cell_type": "code",
   "execution_count": 11,
   "metadata": {
    "collapsed": true
   },
   "outputs": [],
   "source": [
    "#columns to be converted to categories\n",
    "columns = ['location', 'group_size', 'homeowner', 'risk_factor', 'married_couple', 'state_code', 'car_value_code']"
   ]
  },
  {
   "cell_type": "code",
   "execution_count": 12,
   "metadata": {
    "collapsed": false
   },
   "outputs": [],
   "source": [
    "#change data type to category\n",
    "for col in columns:\n",
    "    df[col] = df[col].astype('category')"
   ]
  },
  {
   "cell_type": "markdown",
   "metadata": {
    "collapsed": true
   },
   "source": [
    "# Feature selection"
   ]
  },
  {
   "cell_type": "code",
   "execution_count": 13,
   "metadata": {
    "collapsed": true
   },
   "outputs": [],
   "source": [
    "from sklearn.linear_model import (LinearRegression, Ridge, Lasso, RandomizedLasso)\n",
    "from sklearn.feature_selection import RFE, f_regression\n",
    "from sklearn.preprocessing import MinMaxScaler\n",
    "from sklearn.ensemble import RandomForestRegressor"
   ]
  },
  {
   "cell_type": "code",
   "execution_count": 14,
   "metadata": {
    "collapsed": false
   },
   "outputs": [],
   "source": [
    "#Subset data frame to select only rows where RiskScore is not null\n",
    "df = df[~ pd.isnull(df['risk_factor'])]"
   ]
  },
  {
   "cell_type": "code",
   "execution_count": 15,
   "metadata": {
    "collapsed": true
   },
   "outputs": [],
   "source": [
    "#copy data frame\n",
    "df_copy = df.copy()"
   ]
  },
  {
   "cell_type": "code",
   "execution_count": 16,
   "metadata": {
    "collapsed": false
   },
   "outputs": [],
   "source": [
    "#define source and target columns\n",
    "Y= df_copy['risk_factor']\n",
    "df_copy.drop('risk_factor',axis=1,inplace=True)\n",
    "df_copy.drop('state',axis=1,inplace=True)\n",
    "df_copy.drop('car_value',axis=1,inplace=True)\n",
    "X = df_copy"
   ]
  },
  {
   "cell_type": "code",
   "execution_count": 17,
   "metadata": {
    "collapsed": false
   },
   "outputs": [],
   "source": [
    "names = X.columns.values.tolist()\n",
    "ranks = {}"
   ]
  },
  {
   "cell_type": "code",
   "execution_count": 18,
   "metadata": {
    "collapsed": false
   },
   "outputs": [],
   "source": [
    "#Linear Regression - Multicollinearity\n",
    "lr = LinearRegression(normalize=True)\n",
    "lr.fit(X, Y)\n",
    "ranks[\"Linear regression\"] = find_ranks(np.abs(lr.coef_), names)"
   ]
  },
  {
   "cell_type": "code",
   "execution_count": 19,
   "metadata": {
    "collapsed": true
   },
   "outputs": [],
   "source": [
    "#L1 Regularization for Linear Regression - adding additional constraint or penalty to the model to prevent overfitting since\n",
    "#Linearregression does not work well with multiple variables\n",
    "#Forces weak features to have zero coefficients\n",
    "lasso = Lasso(alpha=.05)\n",
    "lasso.fit(X, Y)\n",
    "ranks[\"Lasso\"] = find_ranks(np.abs(lasso.coef_), names)"
   ]
  },
  {
   "cell_type": "code",
   "execution_count": 20,
   "metadata": {
    "collapsed": true
   },
   "outputs": [],
   "source": [
    "#Ridge Regression - adds L2 norm to reduce sparse solutions by Lasso\n",
    "#forces the coefficient values to be spread out more equally\n",
    "ridge = Ridge(alpha=7)\n",
    "ridge.fit(X, Y)\n",
    "ranks[\"Ridge\"] = find_ranks(np.abs(ridge.coef_), names)"
   ]
  },
  {
   "cell_type": "code",
   "execution_count": 21,
   "metadata": {
    "collapsed": true
   },
   "outputs": [],
   "source": [
    "#random forest - for non linear relationships \n",
    "rf = RandomForestRegressor()\n",
    "rf.fit(X,Y)\n",
    "ranks[\"RF\"] = find_ranks(rf.feature_importances_, names)"
   ]
  },
  {
   "cell_type": "code",
   "execution_count": 22,
   "metadata": {
    "collapsed": true
   },
   "outputs": [],
   "source": [
    "#Recursive feature elimination: selects features then repeatedly runs the model to get the best fit with rest of features \n",
    "# stop the search when 6 features are left (they will get equal scores)\n",
    "rfe = RFE(lr, n_features_to_select=6)\n",
    "rfe.fit(X,Y)\n",
    "ranks[\"RFE\"] = find_ranks(rfe.ranking_, names, order=-1)"
   ]
  },
  {
   "cell_type": "code",
   "execution_count": 23,
   "metadata": {
    "collapsed": true
   },
   "outputs": [],
   "source": [
    "rank_df = pd.DataFrame(ranks)\n",
    "rank_df['Max-Rank'] = rank_df.max(axis=1)\n",
    "rank_df['Avg-Rank'] = rank_df.mean(axis=1)"
   ]
  },
  {
   "cell_type": "code",
   "execution_count": 24,
   "metadata": {
    "collapsed": false
   },
   "outputs": [
    {
     "data": {
      "text/html": [
       "<div>\n",
       "<table border=\"1\" class=\"dataframe\">\n",
       "  <thead>\n",
       "    <tr style=\"text-align: right;\">\n",
       "      <th></th>\n",
       "      <th>Lasso</th>\n",
       "      <th>Linear regression</th>\n",
       "      <th>RF</th>\n",
       "      <th>RFE</th>\n",
       "      <th>Ridge</th>\n",
       "      <th>Max-Rank</th>\n",
       "      <th>Avg-Rank</th>\n",
       "    </tr>\n",
       "  </thead>\n",
       "  <tbody>\n",
       "    <tr>\n",
       "      <th>homeowner</th>\n",
       "      <td>0.00</td>\n",
       "      <td>1.00</td>\n",
       "      <td>0.02</td>\n",
       "      <td>1.00</td>\n",
       "      <td>1.00</td>\n",
       "      <td>1.00</td>\n",
       "      <td>0.670000</td>\n",
       "    </tr>\n",
       "    <tr>\n",
       "      <th>state_code</th>\n",
       "      <td>0.80</td>\n",
       "      <td>0.11</td>\n",
       "      <td>0.72</td>\n",
       "      <td>1.00</td>\n",
       "      <td>0.11</td>\n",
       "      <td>1.00</td>\n",
       "      <td>0.623333</td>\n",
       "    </tr>\n",
       "    <tr>\n",
       "      <th>car_age</th>\n",
       "      <td>1.00</td>\n",
       "      <td>0.14</td>\n",
       "      <td>0.45</td>\n",
       "      <td>1.00</td>\n",
       "      <td>0.14</td>\n",
       "      <td>1.00</td>\n",
       "      <td>0.621667</td>\n",
       "    </tr>\n",
       "    <tr>\n",
       "      <th>age_oldest</th>\n",
       "      <td>0.77</td>\n",
       "      <td>0.08</td>\n",
       "      <td>0.60</td>\n",
       "      <td>1.00</td>\n",
       "      <td>0.08</td>\n",
       "      <td>1.00</td>\n",
       "      <td>0.588333</td>\n",
       "    </tr>\n",
       "    <tr>\n",
       "      <th>married_couple</th>\n",
       "      <td>0.00</td>\n",
       "      <td>0.29</td>\n",
       "      <td>0.00</td>\n",
       "      <td>1.00</td>\n",
       "      <td>0.29</td>\n",
       "      <td>1.00</td>\n",
       "      <td>0.430000</td>\n",
       "    </tr>\n",
       "    <tr>\n",
       "      <th>age_youngest</th>\n",
       "      <td>0.44</td>\n",
       "      <td>0.06</td>\n",
       "      <td>0.33</td>\n",
       "      <td>0.67</td>\n",
       "      <td>0.06</td>\n",
       "      <td>0.67</td>\n",
       "      <td>0.371667</td>\n",
       "    </tr>\n",
       "    <tr>\n",
       "      <th>group_size</th>\n",
       "      <td>0.00</td>\n",
       "      <td>0.08</td>\n",
       "      <td>0.00</td>\n",
       "      <td>1.00</td>\n",
       "      <td>0.08</td>\n",
       "      <td>1.00</td>\n",
       "      <td>0.360000</td>\n",
       "    </tr>\n",
       "    <tr>\n",
       "      <th>location</th>\n",
       "      <td>0.00</td>\n",
       "      <td>0.00</td>\n",
       "      <td>1.00</td>\n",
       "      <td>0.00</td>\n",
       "      <td>0.00</td>\n",
       "      <td>1.00</td>\n",
       "      <td>0.333333</td>\n",
       "    </tr>\n",
       "    <tr>\n",
       "      <th>car_value_code</th>\n",
       "      <td>0.00</td>\n",
       "      <td>0.01</td>\n",
       "      <td>0.24</td>\n",
       "      <td>0.33</td>\n",
       "      <td>0.01</td>\n",
       "      <td>0.33</td>\n",
       "      <td>0.153333</td>\n",
       "    </tr>\n",
       "  </tbody>\n",
       "</table>\n",
       "</div>"
      ],
      "text/plain": [
       "                Lasso  Linear regression    RF   RFE  Ridge  Max-Rank  \\\n",
       "homeowner        0.00               1.00  0.02  1.00   1.00      1.00   \n",
       "state_code       0.80               0.11  0.72  1.00   0.11      1.00   \n",
       "car_age          1.00               0.14  0.45  1.00   0.14      1.00   \n",
       "age_oldest       0.77               0.08  0.60  1.00   0.08      1.00   \n",
       "married_couple   0.00               0.29  0.00  1.00   0.29      1.00   \n",
       "age_youngest     0.44               0.06  0.33  0.67   0.06      0.67   \n",
       "group_size       0.00               0.08  0.00  1.00   0.08      1.00   \n",
       "location         0.00               0.00  1.00  0.00   0.00      1.00   \n",
       "car_value_code   0.00               0.01  0.24  0.33   0.01      0.33   \n",
       "\n",
       "                Avg-Rank  \n",
       "homeowner       0.670000  \n",
       "state_code      0.623333  \n",
       "car_age         0.621667  \n",
       "age_oldest      0.588333  \n",
       "married_couple  0.430000  \n",
       "age_youngest    0.371667  \n",
       "group_size      0.360000  \n",
       "location        0.333333  \n",
       "car_value_code  0.153333  "
      ]
     },
     "execution_count": 24,
     "metadata": {},
     "output_type": "execute_result"
    }
   ],
   "source": [
    "rank_df.sort(\"Avg-Rank\", ascending = False)"
   ]
  },
  {
   "cell_type": "markdown",
   "metadata": {},
   "source": [
    "# Divide into test and train data"
   ]
  },
  {
   "cell_type": "code",
   "execution_count": 25,
   "metadata": {
    "collapsed": true
   },
   "outputs": [],
   "source": [
    "#copy data frame\n",
    "df_copy = df.copy()"
   ]
  },
  {
   "cell_type": "code",
   "execution_count": 26,
   "metadata": {
    "collapsed": true
   },
   "outputs": [],
   "source": [
    "#dropping not-required columns\n",
    "df_copy.drop('state',axis=1,inplace=True)\n",
    "df_copy.drop('car_value',axis=1,inplace=True)"
   ]
  },
  {
   "cell_type": "code",
   "execution_count": 27,
   "metadata": {
    "collapsed": true
   },
   "outputs": [],
   "source": [
    "#dividing the DF into two for test & train data\n",
    "from sklearn.model_selection import train_test_split\n",
    "train_risk, test_risk = train_test_split(df_copy, test_size = 0.2)"
   ]
  },
  {
   "cell_type": "code",
   "execution_count": 28,
   "metadata": {
    "collapsed": true
   },
   "outputs": [],
   "source": [
    "#inputs required for classification\n",
    "train_y = train_risk['risk_factor']\n",
    "train_X = train_risk.drop(['risk_factor'], axis = 1)\n",
    "\n",
    "test_y = test_risk['risk_factor']\n",
    "test_X = test_risk.drop(['risk_factor'], axis = 1)"
   ]
  },
  {
   "cell_type": "markdown",
   "metadata": {},
   "source": [
    "# Logistic regression"
   ]
  },
  {
   "cell_type": "code",
   "execution_count": 29,
   "metadata": {
    "collapsed": true
   },
   "outputs": [],
   "source": [
    "from sklearn.linear_model import LogisticRegression\n",
    "from sklearn.metrics import roc_curve\n",
    "from sklearn import metrics\n",
    "import matplotlib as mlp\n",
    "import matplotlib.pyplot as plt\n",
    "plt.style.use('fivethirtyeight')\n",
    "import seaborn as sns"
   ]
  },
  {
   "cell_type": "code",
   "execution_count": 30,
   "metadata": {
    "collapsed": false
   },
   "outputs": [],
   "source": [
    "#defining the model\n",
    "model = LogisticRegression()"
   ]
  },
  {
   "cell_type": "code",
   "execution_count": 31,
   "metadata": {
    "collapsed": true
   },
   "outputs": [],
   "source": [
    "#training the train_X data on the model\n",
    "model = model.fit(train_X,train_y)"
   ]
  },
  {
   "cell_type": "code",
   "execution_count": 32,
   "metadata": {
    "collapsed": true
   },
   "outputs": [],
   "source": [
    "#predecting 'LoanApproval' for train_X & test_X data\n",
    "train_y_predicted = model.predict(train_X)\n",
    "test_y_predicted = model.predict(test_X)"
   ]
  },
  {
   "cell_type": "code",
   "execution_count": 33,
   "metadata": {
    "collapsed": false
   },
   "outputs": [
    {
     "data": {
      "image/png": "[encoded data removed]",
      "text/plain": [
       "<matplotlib.figure.Figure at 0x1b686974860>"
      ]
     },
     "metadata": {},
     "output_type": "display_data"
    }
   ],
   "source": [
    "#preparing Confusion-matrix for train_X & test_X data\n",
    "logistic_reg_conf_matrix_train = metrics.confusion_matrix(train_y, train_y_predicted)\n",
    "logistic_reg_conf_matrix_test = metrics.confusion_matrix(test_y, test_y_predicted)\n",
    "\n",
    "#plot on Confusion-matrix heatmap\n",
    "fix, ax = plt.subplots(figsize=(16, 12))\n",
    "plt.suptitle('Logistic Regression Confusion-Matrix')\n",
    "plt.subplot(2, 2, 1)\n",
    "plt.title('Training data-set');\n",
    "sns.heatmap(logistic_reg_conf_matrix_train, annot=True,  fmt='d');\n",
    "\n",
    "plt.subplot(2, 2, 2)\n",
    "plt.title('Testing data-set');\n",
    "sns.heatmap(logistic_reg_conf_matrix_test, annot=True,  fmt='d');\n",
    "\n",
    "plt.show()"
   ]
  },
  {
   "cell_type": "code",
   "execution_count": 34,
   "metadata": {
    "collapsed": false
   },
   "outputs": [
    {
     "name": "stdout",
     "output_type": "stream",
     "text": [
      "Logistic Regression accuracy\n",
      "Training data :  0.347380128522\n",
      "Testing data :  0.346581614038\n"
     ]
    }
   ],
   "source": [
    "#calculating accuracy score\n",
    "logistic_reg_acc_matrix_train = metrics.accuracy_score(train_y, train_y_predicted)\n",
    "logistic_reg_acc_matrix_test = metrics.accuracy_score(test_y, test_y_predicted)\n",
    "print('Logistic Regression accuracy')\n",
    "print('Training data : ',logistic_reg_acc_matrix_train)\n",
    "print('Testing data : ',logistic_reg_acc_matrix_test)"
   ]
  },
  {
   "cell_type": "code",
   "execution_count": 35,
   "metadata": {
    "collapsed": false
   },
   "outputs": [
    {
     "name": "stdout",
     "output_type": "stream",
     "text": [
      "Logistic Regression classification reprot\n",
      "Training data\n",
      "             precision    recall  f1-score   support\n",
      "\n",
      "        1.0       0.37      0.61      0.46     79840\n",
      "        2.0       0.27      0.02      0.05     77791\n",
      "        3.0       0.32      0.35      0.34     93923\n",
      "        4.0       0.35      0.39      0.37     88310\n",
      "\n",
      "avg / total       0.33      0.35      0.31    339864\n",
      "\n",
      "Testing data\n",
      "             precision    recall  f1-score   support\n",
      "\n",
      "        1.0       0.36      0.60      0.45     19636\n",
      "        2.0       0.29      0.03      0.05     19239\n",
      "        3.0       0.32      0.35      0.33     23648\n",
      "        4.0       0.35      0.40      0.37     22444\n",
      "\n",
      "avg / total       0.33      0.35      0.31     84967\n",
      "\n"
     ]
    }
   ],
   "source": [
    "#generating classification report\n",
    "print('Logistic Regression classification reprot')\n",
    "\n",
    "logistic_reg_class_report_train = metrics.classification_report(train_y, train_y_predicted)\n",
    "print('Training data')\n",
    "print(logistic_reg_class_report_train)\n",
    "\n",
    "logistic_reg_class_report_test = metrics.classification_report(test_y, test_y_predicted)\n",
    "print('Testing data')\n",
    "print(logistic_reg_class_report_test)"
   ]
  },
  {
   "cell_type": "markdown",
   "metadata": {},
   "source": [
    "# Random Forest "
   ]
  },
  {
   "cell_type": "code",
   "execution_count": 36,
   "metadata": {
    "collapsed": false
   },
   "outputs": [],
   "source": [
    "from sklearn.ensemble import RandomForestClassifier\n",
    "from sklearn.metrics import roc_curve\n",
    "from sklearn import metrics\n",
    "import matplotlib as mlp\n",
    "import matplotlib.pyplot as plt\n",
    "plt.style.use('fivethirtyeight')\n",
    "import seaborn as sns"
   ]
  },
  {
   "cell_type": "code",
   "execution_count": 37,
   "metadata": {
    "collapsed": true
   },
   "outputs": [],
   "source": [
    "#defining the model\n",
    "model = RandomForestClassifier(n_estimators = 10)"
   ]
  },
  {
   "cell_type": "code",
   "execution_count": 38,
   "metadata": {
    "collapsed": true
   },
   "outputs": [],
   "source": [
    "#training the train_X data on the model\n",
    "model = model.fit(train_X,train_y)"
   ]
  },
  {
   "cell_type": "code",
   "execution_count": 39,
   "metadata": {
    "collapsed": false
   },
   "outputs": [
    {
     "data": {
      "text/plain": [
       "[('location', 0.32218100334747729),\n",
       " ('group_size', 0.015133960267648915),\n",
       " ('homeowner', 0.012203451783607877),\n",
       " ('car_age', 0.15718687874259335),\n",
       " ('age_oldest', 0.12438307352427577),\n",
       " ('age_youngest', 0.12404293502133557),\n",
       " ('married_couple', 0.012857191686890267),\n",
       " ('state_code', 0.13731597110078644),\n",
       " ('car_value_code', 0.09469553452538447)]"
      ]
     },
     "execution_count": 39,
     "metadata": {},
     "output_type": "execute_result"
    }
   ],
   "source": [
    "# View a list of the features and their importance scores\n",
    "list(zip(train_X, model.feature_importances_))"
   ]
  },
  {
   "cell_type": "code",
   "execution_count": 40,
   "metadata": {
    "collapsed": true
   },
   "outputs": [],
   "source": [
    "#predecting 'LoanApproval' for train_X & test_X data\n",
    "train_y_predicted = model.predict(train_X)\n",
    "test_y_predicted = model.predict(test_X)"
   ]
  },
  {
   "cell_type": "code",
   "execution_count": 41,
   "metadata": {
    "collapsed": false
   },
   "outputs": [
    {
     "data": {
      "image/png": "[encoded data removed]",
      "text/plain": [
       "<matplotlib.figure.Figure at 0x1b687009550>"
      ]
     },
     "metadata": {},
     "output_type": "display_data"
    }
   ],
   "source": [
    "#preparing Confusion-matrix for train_X & test_X data\n",
    "random_forest_conf_matrix_train = metrics.confusion_matrix(train_y, train_y_predicted)\n",
    "random_forest_conf_matrix_test = metrics.confusion_matrix(test_y, test_y_predicted)\n",
    "\n",
    "#plot on Confusion-matrix heatmap\n",
    "fix, ax = plt.subplots(figsize=(16, 12))\n",
    "plt.suptitle('Random Forest Confusion-Matrix')\n",
    "plt.subplot(2, 2, 1)\n",
    "plt.title('Training data-set');\n",
    "sns.heatmap(random_forest_conf_matrix_train, annot=True,  fmt='d');\n",
    "\n",
    "plt.subplot(2, 2, 2)\n",
    "plt.title('Testing data-set');\n",
    "sns.heatmap(random_forest_conf_matrix_test, annot=True,  fmt='d');\n",
    "\n",
    "plt.show()"
   ]
  },
  {
   "cell_type": "code",
   "execution_count": 42,
   "metadata": {
    "collapsed": false
   },
   "outputs": [
    {
     "name": "stdout",
     "output_type": "stream",
     "text": [
      "Random Forest accuracy\n",
      "Training data :  0.996407386484\n",
      "Testing data :  0.982652088458\n"
     ]
    }
   ],
   "source": [
    "#calculating accuracy score\n",
    "random_forest_acc_matrix_train = metrics.accuracy_score(train_y, train_y_predicted)\n",
    "random_forest_acc_matrix_test = metrics.accuracy_score(test_y, test_y_predicted)\n",
    "print('Random Forest accuracy')\n",
    "print('Training data : ',random_forest_acc_matrix_train)\n",
    "print('Testing data : ',random_forest_acc_matrix_test)"
   ]
  },
  {
   "cell_type": "code",
   "execution_count": 43,
   "metadata": {
    "collapsed": false
   },
   "outputs": [
    {
     "name": "stdout",
     "output_type": "stream",
     "text": [
      "Random Forest classification reprot\n",
      "Training data\n",
      "             precision    recall  f1-score   support\n",
      "\n",
      "        1.0       1.00      1.00      1.00     79840\n",
      "        2.0       1.00      1.00      1.00     77791\n",
      "        3.0       1.00      0.99      1.00     93923\n",
      "        4.0       1.00      1.00      1.00     88310\n",
      "\n",
      "avg / total       1.00      1.00      1.00    339864\n",
      "\n",
      "Testing data\n",
      "             precision    recall  f1-score   support\n",
      "\n",
      "        1.0       0.98      0.99      0.98     19636\n",
      "        2.0       0.98      0.98      0.98     19239\n",
      "        3.0       0.98      0.98      0.98     23648\n",
      "        4.0       0.99      0.98      0.98     22444\n",
      "\n",
      "avg / total       0.98      0.98      0.98     84967\n",
      "\n"
     ]
    }
   ],
   "source": [
    "#generating classification report\n",
    "print('Random Forest classification reprot')\n",
    "\n",
    "random_forest_class_report_train = metrics.classification_report(train_y, train_y_predicted)\n",
    "print('Training data')\n",
    "print(random_forest_class_report_train)\n",
    "\n",
    "random_forest_class_report_test = metrics.classification_report(test_y, test_y_predicted)\n",
    "print('Testing data')\n",
    "print(random_forest_class_report_test)"
   ]
  }
 ],
 "metadata": {
  "kernelspec": {
   "display_name": "Python 3",
   "language": "python",
   "name": "python3"
  },
  "language_info": {
   "codemirror_mode": {
    "name": "ipython",
    "version": 3
   },
   "file_extension": ".py",
   "mimetype": "text/x-python",
   "name": "python",
   "nbconvert_exporter": "python",
   "pygments_lexer": "ipython3",
   "version": "3.6.0"
  }
 },
 "nbformat": 4,
 "nbformat_minor": 2
}
