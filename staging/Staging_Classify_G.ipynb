{
 "cells": [
  {
   "cell_type": "code",
   "execution_count": 1,
   "metadata": {
    "collapsed": true
   },
   "outputs": [],
   "source": [
    "import csv\n",
    "import os\n",
    "import numpy as np\n",
    "import pandas as pd\n",
    "import warnings\n",
    "warnings.filterwarnings('ignore')"
   ]
  },
  {
   "cell_type": "code",
   "execution_count": 2,
   "metadata": {
    "collapsed": true
   },
   "outputs": [],
   "source": [
    "def get_list(coefs, names = None, sort = False):\n",
    "    if names == None:\n",
    "        names = [\"X%s\" % x for x in range(len(coefs))]\n",
    "    lst = zip(coefs, names)\n",
    "    if sort:\n",
    "        lst = sorted(lst,  key = lambda x:-np.abs(x[0]))\n",
    "    return lst"
   ]
  },
  {
   "cell_type": "code",
   "execution_count": 3,
   "metadata": {
    "collapsed": true
   },
   "outputs": [],
   "source": [
    "def find_ranks(ranks, names, order=1):\n",
    "    minmax = MinMaxScaler()\n",
    "    ranks = minmax.fit_transform(order*np.array([ranks]).T).T[0]\n",
    "    ranks = map(lambda x: round(x, 2), ranks)\n",
    "    return dict(zip(names, ranks ))"
   ]
  },
  {
   "cell_type": "code",
   "execution_count": 4,
   "metadata": {
    "collapsed": true
   },
   "outputs": [],
   "source": [
    "def funReadData(path):\n",
    "    df = pd.read_csv(path, encoding = 'ISO-8859-1')\n",
    "    return df"
   ]
  },
  {
   "cell_type": "code",
   "execution_count": 5,
   "metadata": {
    "collapsed": true
   },
   "outputs": [],
   "source": [
    "#defining filedirectory\n",
    "fileDir = os.path.dirname(os.path.realpath('__file__'))"
   ]
  },
  {
   "cell_type": "code",
   "execution_count": 6,
   "metadata": {
    "collapsed": true
   },
   "outputs": [],
   "source": [
    "#defining data frames\n",
    "df = pd.DataFrame()"
   ]
  },
  {
   "cell_type": "code",
   "execution_count": 7,
   "metadata": {
    "collapsed": false
   },
   "outputs": [],
   "source": [
    "#reading loan data stats\n",
    "for directory, subdirectory, filenames in  os.walk(fileDir + '/data/processed_data/'):\n",
    "    for filename in filenames:\n",
    "        if filename == 'purchase_data.csv':\n",
    "            df = funReadData(os.path.join(directory, filename))"
   ]
  },
  {
   "cell_type": "code",
   "execution_count": 8,
   "metadata": {
    "collapsed": true
   },
   "outputs": [],
   "source": [
    "# columns = ['shopping_pt', 'record_type', 'day', 'state', 'location', 'group_size', 'homeowner', 'car_age', 'car_value', 'risk_factor', 'age_oldest', 'age_youngest', 'married_couple', 'C_previous', 'duration_previous', 'A', 'B', 'C', 'D', 'E', 'F', 'G', 'cost', 'plan', 'hour', 'is_weekend', 'is_family', 'agediff', 'is_individual', 'state_code', 'car_value_code', 'is_changed']"
   ]
  },
  {
   "cell_type": "code",
   "execution_count": 9,
   "metadata": {
    "collapsed": true
   },
   "outputs": [],
   "source": [
    "#defining required columns\n",
    "columns = ['location', 'group_size', 'homeowner', 'car_age', 'risk_factor', 'age_oldest', 'age_youngest', \n",
    "           'married_couple', 'C_previous', 'duration_previous', 'A', 'hour', 'is_weekend', 'is_family', \n",
    "           'agediff', 'is_individual', 'state_code', 'car_value_code', 'B', 'C', 'D', 'E', 'F', 'G']"
   ]
  },
  {
   "cell_type": "code",
   "execution_count": 10,
   "metadata": {
    "collapsed": false
   },
   "outputs": [],
   "source": [
    "#subsetting data frame\n",
    "df = df[columns]"
   ]
  },
  {
   "cell_type": "code",
   "execution_count": 11,
   "metadata": {
    "collapsed": true
   },
   "outputs": [],
   "source": [
    "#columns to be converted to categories\n",
    "columns = ['location', 'group_size', 'homeowner', 'risk_factor', 'married_couple', 'C_previous','state_code', 'car_value_code',\n",
    "          'hour', 'is_weekend', 'is_family', 'is_individual', 'A', 'B', 'C', 'D', 'E', 'F', 'G']"
   ]
  },
  {
   "cell_type": "code",
   "execution_count": 12,
   "metadata": {
    "collapsed": false
   },
   "outputs": [],
   "source": [
    "#change data type to category\n",
    "for col in columns:\n",
    "    df[col] = df[col].astype('category')"
   ]
  },
  {
   "cell_type": "markdown",
   "metadata": {},
   "source": [
    "# Divide into test and train data"
   ]
  },
  {
   "cell_type": "code",
   "execution_count": 13,
   "metadata": {
    "collapsed": true
   },
   "outputs": [],
   "source": [
    "#copy data frame\n",
    "df_copy = df.copy()"
   ]
  },
  {
   "cell_type": "code",
   "execution_count": 14,
   "metadata": {
    "collapsed": true
   },
   "outputs": [],
   "source": [
    "#dividing the DF into two for test & train data\n",
    "from sklearn.model_selection import train_test_split\n",
    "train_risk, test_risk = train_test_split(df_copy, test_size = 0.3)"
   ]
  },
  {
   "cell_type": "code",
   "execution_count": 15,
   "metadata": {
    "collapsed": true
   },
   "outputs": [],
   "source": [
    "#inputs required for classification\n",
    "train_y = train_risk['G']\n",
    "train_X = train_risk.drop(['G'], axis = 1)\n",
    "\n",
    "test_y = test_risk['G']\n",
    "test_X = test_risk.drop(['G'], axis = 1)"
   ]
  },
  {
   "cell_type": "markdown",
   "metadata": {},
   "source": [
    "# Random Forest "
   ]
  },
  {
   "cell_type": "code",
   "execution_count": 16,
   "metadata": {
    "collapsed": false
   },
   "outputs": [],
   "source": [
    "from sklearn.ensemble import RandomForestClassifier\n",
    "from sklearn.metrics import roc_curve\n",
    "from sklearn import metrics\n",
    "import matplotlib as mlp\n",
    "import matplotlib.pyplot as plt\n",
    "plt.style.use('fivethirtyeight')\n",
    "import seaborn as sns"
   ]
  },
  {
   "cell_type": "code",
   "execution_count": 17,
   "metadata": {
    "collapsed": true
   },
   "outputs": [],
   "source": [
    "#defining the model\n",
    "model = RandomForestClassifier(n_estimators = 10)"
   ]
  },
  {
   "cell_type": "code",
   "execution_count": 18,
   "metadata": {
    "collapsed": true
   },
   "outputs": [],
   "source": [
    "#training the train_X data on the model\n",
    "model = model.fit(train_X,train_y)"
   ]
  },
  {
   "cell_type": "code",
   "execution_count": 19,
   "metadata": {
    "collapsed": true
   },
   "outputs": [],
   "source": [
    "#predecting 'LoanApproval' for train_X & test_X data\n",
    "train_y_predicted = model.predict(train_X)\n",
    "test_y_predicted = model.predict(test_X)"
   ]
  },
  {
   "cell_type": "code",
   "execution_count": 20,
   "metadata": {
    "collapsed": false
   },
   "outputs": [
    {
     "data": {
      "image/png": "[encoded data removed]",
      "text/plain": [
       "<matplotlib.figure.Figure at 0x2bcac330ef0>"
      ]
     },
     "metadata": {},
     "output_type": "display_data"
    }
   ],
   "source": [
    "#preparing Confusion-matrix for train_X & test_X data\n",
    "random_forest_conf_matrix_train = metrics.confusion_matrix(train_y, train_y_predicted)\n",
    "random_forest_conf_matrix_test = metrics.confusion_matrix(test_y, test_y_predicted)\n",
    "\n",
    "#plot on Confusion-matrix heatmap\n",
    "fix, ax = plt.subplots(figsize=(16, 12))\n",
    "plt.suptitle('Random Forest Confusion-Matrix')\n",
    "plt.subplot(2, 2, 1)\n",
    "plt.title('Training data-set');\n",
    "sns.heatmap(random_forest_conf_matrix_train, annot=True,  fmt='d');\n",
    "\n",
    "plt.subplot(2, 2, 2)\n",
    "plt.title('Testing data-set');\n",
    "sns.heatmap(random_forest_conf_matrix_test, annot=True,  fmt='d');\n",
    "\n",
    "plt.show()"
   ]
  },
  {
   "cell_type": "code",
   "execution_count": 21,
   "metadata": {
    "collapsed": false
   },
   "outputs": [
    {
     "name": "stdout",
     "output_type": "stream",
     "text": [
      "Random Forest accuracy\n",
      "Training data :  0.984360733956\n",
      "Testing data :  0.549977665533\n"
     ]
    }
   ],
   "source": [
    "#calculating accuracy score\n",
    "random_forest_acc_matrix_train = metrics.accuracy_score(train_y, train_y_predicted)\n",
    "random_forest_acc_matrix_test = metrics.accuracy_score(test_y, test_y_predicted)\n",
    "print('Random Forest accuracy')\n",
    "print('Training data : ',random_forest_acc_matrix_train)\n",
    "print('Testing data : ',random_forest_acc_matrix_test)"
   ]
  },
  {
   "cell_type": "code",
   "execution_count": 22,
   "metadata": {
    "collapsed": false
   },
   "outputs": [
    {
     "name": "stdout",
     "output_type": "stream",
     "text": [
      "Random Forest classification reprot\n",
      "Training data\n",
      "             precision    recall  f1-score   support\n",
      "\n",
      "          1       0.98      0.99      0.99     14203\n",
      "          2       0.98      0.99      0.99     26576\n",
      "          3       0.99      0.99      0.99     21194\n",
      "          4       1.00      0.92      0.96      5933\n",
      "\n",
      "avg / total       0.98      0.98      0.98     67906\n",
      "\n",
      "Testing data\n",
      "             precision    recall  f1-score   support\n",
      "\n",
      "          1       0.43      0.43      0.43      6054\n",
      "          2       0.55      0.68      0.61     11274\n",
      "          3       0.65      0.61      0.63      9247\n",
      "          4       0.28      0.05      0.08      2528\n",
      "\n",
      "avg / total       0.53      0.55      0.53     29103\n",
      "\n"
     ]
    }
   ],
   "source": [
    "#generating classification report\n",
    "print('Random Forest classification reprot')\n",
    "\n",
    "random_forest_class_report_train = metrics.classification_report(train_y, train_y_predicted)\n",
    "print('Training data')\n",
    "print(random_forest_class_report_train)\n",
    "\n",
    "random_forest_class_report_test = metrics.classification_report(test_y, test_y_predicted)\n",
    "print('Testing data')\n",
    "print(random_forest_class_report_test)"
   ]
  },
  {
   "cell_type": "markdown",
   "metadata": {},
   "source": [
    "# Testing Feature  Selection"
   ]
  },
  {
   "cell_type": "code",
   "execution_count": 23,
   "metadata": {
    "collapsed": false
   },
   "outputs": [
    {
     "data": {
      "text/plain": [
       "[('location', 0.10863255926871465),\n",
       " ('group_size', 0.0098459805662842285),\n",
       " ('homeowner', 0.017206797915156918),\n",
       " ('car_age', 0.076060623440957084),\n",
       " ('risk_factor', 0.033379790978827581),\n",
       " ('age_oldest', 0.076028237184503439),\n",
       " ('age_youngest', 0.076071584887510091),\n",
       " ('married_couple', 0.0089816029637894146),\n",
       " ('C_previous', 0.030847141658427141),\n",
       " ('duration_previous', 0.068176930941120553),\n",
       " ('A', 0.01945592038320567),\n",
       " ('hour', 0.06897210980120809),\n",
       " ('is_weekend', 0.017439415899279345),\n",
       " ('is_family', 0.00094331464000306476),\n",
       " ('agediff', 0.024472246537158737),\n",
       " ('is_individual', 0.0087045909809915917),\n",
       " ('state_code', 0.18713665785666117),\n",
       " ('car_value_code', 0.048833097190996502),\n",
       " ('B', 0.018849833639505043),\n",
       " ('C', 0.028178466006336122),\n",
       " ('D', 0.017693542455482374),\n",
       " ('E', 0.012532333901910822),\n",
       " ('F', 0.041557220901970324)]"
      ]
     },
     "execution_count": 23,
     "metadata": {},
     "output_type": "execute_result"
    }
   ],
   "source": [
    "list(zip(train_X, model.feature_importances_))"
   ]
  },
  {
   "cell_type": "code",
   "execution_count": 24,
   "metadata": {
    "collapsed": true
   },
   "outputs": [],
   "source": [
    "from sklearn.feature_selection import SelectFromModel"
   ]
  },
  {
   "cell_type": "code",
   "execution_count": 25,
   "metadata": {
    "collapsed": false
   },
   "outputs": [
    {
     "data": {
      "text/plain": [
       "SelectFromModel(estimator=RandomForestClassifier(bootstrap=True, class_weight=None, criterion='gini',\n",
       "            max_depth=None, max_features='auto', max_leaf_nodes=None,\n",
       "            min_impurity_split=1e-07, min_samples_leaf=1,\n",
       "            min_samples_split=2, min_weight_fraction_leaf=0.0,\n",
       "            n_estimators=10, n_jobs=1, oob_score=False, random_state=None,\n",
       "            verbose=0, warm_start=False),\n",
       "        prefit=False, threshold=0.02)"
      ]
     },
     "execution_count": 25,
     "metadata": {},
     "output_type": "execute_result"
    }
   ],
   "source": [
    "sfm = SelectFromModel(model, threshold=0.02)\n",
    "\n",
    "# Train the selector\n",
    "sfm.fit(train_X, train_y)"
   ]
  },
  {
   "cell_type": "code",
   "execution_count": 26,
   "metadata": {
    "collapsed": true
   },
   "outputs": [],
   "source": [
    "labels = ['location', 'group_size', 'homeowner', 'car_age', 'risk_factor', 'age_oldest', 'age_youngest', \n",
    "           'married_couple', 'C_previous', 'duration_previous', 'hour', 'is_weekend', 'is_family', \n",
    "           'agediff', 'is_individual', 'state_code', 'car_value_code', 'B', 'C', 'D', 'E', 'F', 'G']"
   ]
  },
  {
   "cell_type": "code",
   "execution_count": 27,
   "metadata": {
    "collapsed": false
   },
   "outputs": [
    {
     "name": "stdout",
     "output_type": "stream",
     "text": [
      "location\n",
      "car_age\n",
      "risk_factor\n",
      "age_oldest\n",
      "age_youngest\n",
      "C_previous\n",
      "duration_previous\n",
      "is_weekend\n",
      "is_individual\n",
      "car_value_code\n",
      "B\n",
      "D\n",
      "G\n"
     ]
    }
   ],
   "source": [
    "# Print the names of the most important features\n",
    "for feature_list_index in sfm.get_support(indices=True):\n",
    "    print(labels[feature_list_index])   "
   ]
  },
  {
   "cell_type": "code",
   "execution_count": 28,
   "metadata": {
    "collapsed": false
   },
   "outputs": [],
   "source": [
    "# Transform the data to create a new dataset containing only the most important features\n",
    "# Note: We have to apply the transform to both the training X and test X data.\n",
    "X_important_train = sfm.transform(train_X)\n",
    "X_important_test = sfm.transform(test_X)"
   ]
  },
  {
   "cell_type": "code",
   "execution_count": 29,
   "metadata": {
    "collapsed": false
   },
   "outputs": [],
   "source": [
    "# Create a new random forest classifier for the most important features\n",
    "clf_important = RandomForestClassifier(n_estimators=10, random_state=0, n_jobs=-1)\n",
    "\n",
    "# Train the new classifier on the new dataset containing the most important features\n",
    "model = clf_important.fit(X_important_train, train_y)"
   ]
  },
  {
   "cell_type": "code",
   "execution_count": 30,
   "metadata": {
    "collapsed": false
   },
   "outputs": [],
   "source": [
    "#predecting 'LoanApproval' for train_X & test_X data\n",
    "train_y_predicted = model.predict(X_important_train)\n",
    "test_y_predicted = model.predict(X_important_test)"
   ]
  },
  {
   "cell_type": "code",
   "execution_count": 31,
   "metadata": {
    "collapsed": false
   },
   "outputs": [
    {
     "data": {
      "image/png": "[encoded data removed]",
      "text/plain": [
       "<matplotlib.figure.Figure at 0x2bcae792eb8>"
      ]
     },
     "metadata": {},
     "output_type": "display_data"
    }
   ],
   "source": [
    "#preparing Confusion-matrix for train_X & test_X data\n",
    "random_forest_conf_matrix_train = metrics.confusion_matrix(train_y, train_y_predicted)\n",
    "random_forest_conf_matrix_test = metrics.confusion_matrix(test_y, test_y_predicted)\n",
    "\n",
    "#plot on Confusion-matrix heatmap\n",
    "fix, ax = plt.subplots(figsize=(16, 12))\n",
    "plt.suptitle('Random Forest Confusion-Matrix')\n",
    "plt.subplot(2, 2, 1)\n",
    "plt.title('Training data-set');\n",
    "sns.heatmap(random_forest_conf_matrix_train, annot=True,  fmt='d');\n",
    "\n",
    "plt.subplot(2, 2, 2)\n",
    "plt.title('Testing data-set');\n",
    "sns.heatmap(random_forest_conf_matrix_test, annot=True,  fmt='d');\n",
    "\n",
    "plt.show()"
   ]
  },
  {
   "cell_type": "code",
   "execution_count": 32,
   "metadata": {
    "collapsed": false
   },
   "outputs": [
    {
     "name": "stdout",
     "output_type": "stream",
     "text": [
      "Random Forest accuracy\n",
      "Training data :  0.982947014991\n",
      "Testing data :  0.547160086589\n"
     ]
    }
   ],
   "source": [
    "#calculating accuracy score\n",
    "random_forest_acc_matrix_train = metrics.accuracy_score(train_y, train_y_predicted)\n",
    "random_forest_acc_matrix_test = metrics.accuracy_score(test_y, test_y_predicted)\n",
    "print('Random Forest accuracy')\n",
    "print('Training data : ',random_forest_acc_matrix_train)\n",
    "print('Testing data : ',random_forest_acc_matrix_test)"
   ]
  },
  {
   "cell_type": "code",
   "execution_count": 33,
   "metadata": {
    "collapsed": false
   },
   "outputs": [
    {
     "name": "stdout",
     "output_type": "stream",
     "text": [
      "Random Forest classification reprot\n",
      "Training data\n",
      "             precision    recall  f1-score   support\n",
      "\n",
      "          1       0.98      0.99      0.99     14203\n",
      "          2       0.98      0.99      0.99     26576\n",
      "          3       0.98      0.98      0.98     21194\n",
      "          4       1.00      0.92      0.96      5933\n",
      "\n",
      "avg / total       0.98      0.98      0.98     67906\n",
      "\n",
      "Testing data\n",
      "             precision    recall  f1-score   support\n",
      "\n",
      "          1       0.43      0.43      0.43      6054\n",
      "          2       0.54      0.67      0.60     11274\n",
      "          3       0.65      0.61      0.63      9247\n",
      "          4       0.26      0.05      0.08      2528\n",
      "\n",
      "avg / total       0.53      0.55      0.53     29103\n",
      "\n"
     ]
    }
   ],
   "source": [
    "#generating classification report\n",
    "print('Random Forest classification reprot')\n",
    "\n",
    "random_forest_class_report_train = metrics.classification_report(train_y, train_y_predicted)\n",
    "print('Training data')\n",
    "print(random_forest_class_report_train)\n",
    "\n",
    "random_forest_class_report_test = metrics.classification_report(test_y, test_y_predicted)\n",
    "print('Testing data')\n",
    "print(random_forest_class_report_test)"
   ]
  }
 ],
 "metadata": {
  "kernelspec": {
   "display_name": "Python 3",
   "language": "python",
   "name": "python3"
  },
  "language_info": {
   "codemirror_mode": {
    "name": "ipython",
    "version": 3
   },
   "file_extension": ".py",
   "mimetype": "text/x-python",
   "name": "python",
   "nbconvert_exporter": "python",
   "pygments_lexer": "ipython3",
   "version": "3.6.0"
  }
 },
 "nbformat": 4,
 "nbformat_minor": 2
}
